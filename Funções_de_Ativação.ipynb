{
  "nbformat": 4,
  "nbformat_minor": 0,
  "metadata": {
    "colab": {
      "provenance": [],
      "include_colab_link": true
    },
    "kernelspec": {
      "name": "python3",
      "display_name": "Python 3"
    },
    "language_info": {
      "name": "python"
    }
  },
  "cells": [
    {
      "cell_type": "markdown",
      "metadata": {
        "id": "view-in-github",
        "colab_type": "text"
      },
      "source": [
        "<a href=\"https://colab.research.google.com/github/elyasncr/Deep_Learning/blob/main/Fun%C3%A7%C3%B5es_de_Ativa%C3%A7%C3%A3o.ipynb\" target=\"_parent\"><img src=\"https://colab.research.google.com/assets/colab-badge.svg\" alt=\"Open In Colab\"/></a>"
      ]
    },
    {
      "cell_type": "markdown",
      "source": [
        "# Deep Learning A Z - Funções de Ativação"
      ],
      "metadata": {
        "id": "PSfv60J3fV8W"
      }
    },
    {
      "cell_type": "code",
      "source": [
        "import numpy as np\n",
        "#!pip install numpy==1.25.2"
      ],
      "metadata": {
        "id": "Al6lHw5OhWrK"
      },
      "execution_count": 1,
      "outputs": []
    },
    {
      "cell_type": "code",
      "source": [
        "np.__version__"
      ],
      "metadata": {
        "colab": {
          "base_uri": "https://localhost:8080/",
          "height": 35
        },
        "id": "o1BgzAulhaRs",
        "outputId": "3e84686c-7b97-46fc-d4cd-0796cae9c698"
      },
      "execution_count": 2,
      "outputs": [
        {
          "output_type": "execute_result",
          "data": {
            "text/plain": [
              "'1.26.4'"
            ],
            "application/vnd.google.colaboratory.intrinsic+json": {
              "type": "string"
            }
          },
          "metadata": {},
          "execution_count": 2
        }
      ]
    },
    {
      "cell_type": "markdown",
      "source": [
        "## Step function"
      ],
      "metadata": {
        "id": "gMNkIEatgtj_"
      }
    },
    {
      "cell_type": "code",
      "source": [
        "def step_function(soma):\n",
        "  if soma >= 1:\n",
        "    return 1\n",
        "  return 0"
      ],
      "metadata": {
        "id": "EbT4MfGkhQM5"
      },
      "execution_count": 3,
      "outputs": []
    },
    {
      "cell_type": "code",
      "source": [
        "step_function(-10)"
      ],
      "metadata": {
        "colab": {
          "base_uri": "https://localhost:8080/"
        },
        "id": "kaQek-9Zikkq",
        "outputId": "17a7d9a1-09ba-4d03-92d0-1bc7209836dc"
      },
      "execution_count": 4,
      "outputs": [
        {
          "output_type": "execute_result",
          "data": {
            "text/plain": [
              "0"
            ]
          },
          "metadata": {},
          "execution_count": 4
        }
      ]
    },
    {
      "cell_type": "code",
      "source": [
        "step_function(10)"
      ],
      "metadata": {
        "colab": {
          "base_uri": "https://localhost:8080/"
        },
        "id": "GS7b2j1TivAm",
        "outputId": "3366d14d-62a2-42f2-bf16-097fced822df"
      },
      "execution_count": 5,
      "outputs": [
        {
          "output_type": "execute_result",
          "data": {
            "text/plain": [
              "1"
            ]
          },
          "metadata": {},
          "execution_count": 5
        }
      ]
    },
    {
      "cell_type": "code",
      "source": [
        "step_function(1)"
      ],
      "metadata": {
        "colab": {
          "base_uri": "https://localhost:8080/"
        },
        "id": "wROOAAvziyoU",
        "outputId": "bf7d7c1a-b720-46c5-d6d5-a118f84fefb1"
      },
      "execution_count": 6,
      "outputs": [
        {
          "output_type": "execute_result",
          "data": {
            "text/plain": [
              "1"
            ]
          },
          "metadata": {},
          "execution_count": 6
        }
      ]
    },
    {
      "cell_type": "markdown",
      "source": [
        "## Function Sigmoid"
      ],
      "metadata": {
        "id": "3u-XitCojSm3"
      }
    },
    {
      "cell_type": "code",
      "source": [
        "def sigmoid_function(soma):\n",
        "  return 1 / (1 + np.exp(-soma))"
      ],
      "metadata": {
        "id": "WRTixB6fjWKf"
      },
      "execution_count": 8,
      "outputs": []
    },
    {
      "cell_type": "code",
      "source": [
        "sigmoid_function(-10)"
      ],
      "metadata": {
        "colab": {
          "base_uri": "https://localhost:8080/"
        },
        "id": "HQBy19xijjJt",
        "outputId": "222c765f-502a-4bb8-af8b-334776d366fe"
      },
      "execution_count": 9,
      "outputs": [
        {
          "output_type": "execute_result",
          "data": {
            "text/plain": [
              "4.5397868702434395e-05"
            ]
          },
          "metadata": {},
          "execution_count": 9
        }
      ]
    },
    {
      "cell_type": "code",
      "source": [
        "sigmoid_function(10)"
      ],
      "metadata": {
        "colab": {
          "base_uri": "https://localhost:8080/"
        },
        "id": "3TiYkwvbjp9o",
        "outputId": "3873adde-7817-43b9-a639-3b73f181c234"
      },
      "execution_count": null,
      "outputs": [
        {
          "output_type": "execute_result",
          "data": {
            "text/plain": [
              "0.9999546021312976"
            ]
          },
          "metadata": {},
          "execution_count": 11
        }
      ]
    },
    {
      "cell_type": "code",
      "source": [
        "sigmoid_function(1)"
      ],
      "metadata": {
        "colab": {
          "base_uri": "https://localhost:8080/"
        },
        "id": "iPqJFWG5js3E",
        "outputId": "6839539b-45a0-4fce-a9cc-1080bf0d0899"
      },
      "execution_count": 10,
      "outputs": [
        {
          "output_type": "execute_result",
          "data": {
            "text/plain": [
              "0.7310585786300049"
            ]
          },
          "metadata": {},
          "execution_count": 10
        }
      ]
    },
    {
      "cell_type": "markdown",
      "source": [
        "## Hyperbolic Tangent\n"
      ],
      "metadata": {
        "id": "kiDUj0sgkTDl"
      }
    },
    {
      "cell_type": "code",
      "source": [
        "def tahn_function(soma):\n",
        "  return (np.exp(soma) - np.exp(-soma)) / (np.exp(soma) + np.exp(-soma))"
      ],
      "metadata": {
        "id": "M6bd1F2SkWjh"
      },
      "execution_count": null,
      "outputs": []
    },
    {
      "cell_type": "code",
      "source": [
        "tahn_function(-10)"
      ],
      "metadata": {
        "colab": {
          "base_uri": "https://localhost:8080/"
        },
        "id": "omNumy1cki8i",
        "outputId": "517ab54c-ce8a-446b-8ade-b0bc191bbdd7"
      },
      "execution_count": null,
      "outputs": [
        {
          "output_type": "execute_result",
          "data": {
            "text/plain": [
              "-0.9999999958776926"
            ]
          },
          "metadata": {},
          "execution_count": 14
        }
      ]
    },
    {
      "cell_type": "code",
      "source": [
        "tahn_function(10)"
      ],
      "metadata": {
        "colab": {
          "base_uri": "https://localhost:8080/"
        },
        "id": "mNFY866ckmoc",
        "outputId": "81b8146d-3c91-460d-8098-f905a4b16cf5"
      },
      "execution_count": null,
      "outputs": [
        {
          "output_type": "execute_result",
          "data": {
            "text/plain": [
              "0.9999999958776926"
            ]
          },
          "metadata": {},
          "execution_count": 15
        }
      ]
    },
    {
      "cell_type": "code",
      "source": [
        "tahn_function(1)"
      ],
      "metadata": {
        "colab": {
          "base_uri": "https://localhost:8080/"
        },
        "id": "0Zf92iJWkpe_",
        "outputId": "fd97a15f-2a67-43b3-fe49-ac4868d394e7"
      },
      "execution_count": null,
      "outputs": [
        {
          "output_type": "execute_result",
          "data": {
            "text/plain": [
              "0.7615941559557649"
            ]
          },
          "metadata": {},
          "execution_count": 16
        }
      ]
    },
    {
      "cell_type": "markdown",
      "source": [
        "## ReLU"
      ],
      "metadata": {
        "id": "xi3ZquXoluMb"
      }
    },
    {
      "cell_type": "code",
      "source": [
        "def relu_function(soma):\n",
        "  if soma >= 0:\n",
        "    return soma\n",
        "  return 0"
      ],
      "metadata": {
        "id": "tmi1wJXylyAb"
      },
      "execution_count": 11,
      "outputs": []
    },
    {
      "cell_type": "code",
      "source": [
        "relu_function(-20)"
      ],
      "metadata": {
        "colab": {
          "base_uri": "https://localhost:8080/"
        },
        "id": "T3VVMIL8l6GK",
        "outputId": "e39764ec-3b50-46b2-8485-04859182f8ff"
      },
      "execution_count": null,
      "outputs": [
        {
          "output_type": "execute_result",
          "data": {
            "text/plain": [
              "0"
            ]
          },
          "metadata": {},
          "execution_count": 19
        }
      ]
    },
    {
      "cell_type": "code",
      "source": [
        "relu_function(0)"
      ],
      "metadata": {
        "colab": {
          "base_uri": "https://localhost:8080/"
        },
        "id": "rN_yxdLql9br",
        "outputId": "41376bd0-7700-4e66-81b1-42bd74289d86"
      },
      "execution_count": null,
      "outputs": [
        {
          "output_type": "execute_result",
          "data": {
            "text/plain": [
              "0"
            ]
          },
          "metadata": {},
          "execution_count": 20
        }
      ]
    },
    {
      "cell_type": "code",
      "source": [
        "relu_function(10)"
      ],
      "metadata": {
        "colab": {
          "base_uri": "https://localhost:8080/"
        },
        "id": "3kXto5Szl_2p",
        "outputId": "cf2544c1-402f-4e95-f2ed-fef44cd468ad"
      },
      "execution_count": null,
      "outputs": [
        {
          "output_type": "execute_result",
          "data": {
            "text/plain": [
              "10"
            ]
          },
          "metadata": {},
          "execution_count": 21
        }
      ]
    },
    {
      "cell_type": "code",
      "source": [
        "relu_function(100)"
      ],
      "metadata": {
        "colab": {
          "base_uri": "https://localhost:8080/"
        },
        "id": "0UTOSFC0mB2x",
        "outputId": "b2f0eaf9-fecf-45f0-9e94-d5a6869791df"
      },
      "execution_count": null,
      "outputs": [
        {
          "output_type": "execute_result",
          "data": {
            "text/plain": [
              "100"
            ]
          },
          "metadata": {},
          "execution_count": 22
        }
      ]
    },
    {
      "cell_type": "markdown",
      "source": [
        "## Softmax"
      ],
      "metadata": {
        "id": "OW0zIGTFmpPn"
      }
    },
    {
      "cell_type": "code",
      "source": [
        "def softmax_function(x):\n",
        "  ex = np.exp(x)\n",
        "  return ex / ex.sum()"
      ],
      "metadata": {
        "id": "ogC0TM9amrYj"
      },
      "execution_count": null,
      "outputs": []
    },
    {
      "cell_type": "code",
      "source": [
        "softmax_function([7.0, 2.0, 1.3])"
      ],
      "metadata": {
        "colab": {
          "base_uri": "https://localhost:8080/"
        },
        "id": "DFlKWkm_nFeH",
        "outputId": "3f5d5a87-a1cd-4096-c138-1433cb578c25"
      },
      "execution_count": null,
      "outputs": [
        {
          "output_type": "execute_result",
          "data": {
            "text/plain": [
              "array([0.99001676, 0.00667068, 0.00331256])"
            ]
          },
          "metadata": {},
          "execution_count": 24
        }
      ]
    },
    {
      "cell_type": "code",
      "source": [
        "softmax_function([2.0, 2.0, 5.3])"
      ],
      "metadata": {
        "colab": {
          "base_uri": "https://localhost:8080/"
        },
        "id": "NegL5nS4nac0",
        "outputId": "ffa462d0-7b6e-4acc-b030-68ed698c71b9"
      },
      "execution_count": null,
      "outputs": [
        {
          "output_type": "execute_result",
          "data": {
            "text/plain": [
              "array([0.03434934, 0.03434934, 0.93130132])"
            ]
          },
          "metadata": {},
          "execution_count": 25
        }
      ]
    },
    {
      "cell_type": "markdown",
      "source": [
        "## Linear"
      ],
      "metadata": {
        "id": "OwQUEUGsn656"
      }
    },
    {
      "cell_type": "code",
      "source": [
        "def linear_function(soma):\n",
        "  return soma"
      ],
      "metadata": {
        "id": "S7OMF6o7n8_f"
      },
      "execution_count": null,
      "outputs": []
    },
    {
      "cell_type": "code",
      "source": [
        "linear_function(-10)"
      ],
      "metadata": {
        "id": "zF2fLd9foAvG",
        "outputId": "40a32a3b-0865-47f1-c7b5-5654d7ce232a",
        "colab": {
          "base_uri": "https://localhost:8080/"
        }
      },
      "execution_count": null,
      "outputs": [
        {
          "output_type": "execute_result",
          "data": {
            "text/plain": [
              "-10"
            ]
          },
          "metadata": {},
          "execution_count": 27
        }
      ]
    },
    {
      "cell_type": "code",
      "source": [
        "linear_function(1)"
      ],
      "metadata": {
        "id": "tfDpsLmUoC3j",
        "outputId": "5604f34d-be9e-4b30-ed79-a185a26edfab",
        "colab": {
          "base_uri": "https://localhost:8080/"
        }
      },
      "execution_count": null,
      "outputs": [
        {
          "output_type": "execute_result",
          "data": {
            "text/plain": [
              "1"
            ]
          },
          "metadata": {},
          "execution_count": 28
        }
      ]
    },
    {
      "cell_type": "code",
      "source": [
        "linear_function(10)"
      ],
      "metadata": {
        "id": "Bf7Hit7joFH0",
        "outputId": "59d94455-039a-4542-b8e6-b9ebaf978b46",
        "colab": {
          "base_uri": "https://localhost:8080/"
        }
      },
      "execution_count": null,
      "outputs": [
        {
          "output_type": "execute_result",
          "data": {
            "text/plain": [
              "10"
            ]
          },
          "metadata": {},
          "execution_count": 29
        }
      ]
    }
  ]
}